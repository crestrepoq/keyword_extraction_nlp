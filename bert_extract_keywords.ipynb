{
  "nbformat": 4,
  "nbformat_minor": 0,
  "metadata": {
    "colab": {
      "name": "bert_extract_keywords.ipynb",
      "provenance": [],
      "collapsed_sections": []
    },
    "kernelspec": {
      "name": "python3",
      "display_name": "Python 3"
    },
    "language_info": {
      "name": "python"
    },
    "widgets": {
      "application/vnd.jupyter.widget-state+json": {
        "db393141c26f4752ad19d5790cbaedea": {
          "model_module": "@jupyter-widgets/controls",
          "model_name": "HBoxModel",
          "state": {
            "_view_name": "HBoxView",
            "_dom_classes": [],
            "_model_name": "HBoxModel",
            "_view_module": "@jupyter-widgets/controls",
            "_model_module_version": "1.5.0",
            "_view_count": null,
            "_view_module_version": "1.5.0",
            "box_style": "",
            "layout": "IPY_MODEL_1f9c1aa746614c27944e34d09dff0e05",
            "_model_module": "@jupyter-widgets/controls",
            "children": [
              "IPY_MODEL_169b110706614b24aca493805c371729",
              "IPY_MODEL_ea96a112b2a448a984c1dfe89822b7aa"
            ]
          }
        },
        "1f9c1aa746614c27944e34d09dff0e05": {
          "model_module": "@jupyter-widgets/base",
          "model_name": "LayoutModel",
          "state": {
            "_view_name": "LayoutView",
            "grid_template_rows": null,
            "right": null,
            "justify_content": null,
            "_view_module": "@jupyter-widgets/base",
            "overflow": null,
            "_model_module_version": "1.2.0",
            "_view_count": null,
            "flex_flow": null,
            "width": null,
            "min_width": null,
            "border": null,
            "align_items": null,
            "bottom": null,
            "_model_module": "@jupyter-widgets/base",
            "top": null,
            "grid_column": null,
            "overflow_y": null,
            "overflow_x": null,
            "grid_auto_flow": null,
            "grid_area": null,
            "grid_template_columns": null,
            "flex": null,
            "_model_name": "LayoutModel",
            "justify_items": null,
            "grid_row": null,
            "max_height": null,
            "align_content": null,
            "visibility": null,
            "align_self": null,
            "height": null,
            "min_height": null,
            "padding": null,
            "grid_auto_rows": null,
            "grid_gap": null,
            "max_width": null,
            "order": null,
            "_view_module_version": "1.2.0",
            "grid_template_areas": null,
            "object_position": null,
            "object_fit": null,
            "grid_auto_columns": null,
            "margin": null,
            "display": null,
            "left": null
          }
        },
        "169b110706614b24aca493805c371729": {
          "model_module": "@jupyter-widgets/controls",
          "model_name": "FloatProgressModel",
          "state": {
            "_view_name": "ProgressView",
            "style": "IPY_MODEL_51e9f9e8cc1341e0b040090418cc10d3",
            "_dom_classes": [],
            "description": "100%",
            "_model_name": "FloatProgressModel",
            "bar_style": "success",
            "max": 244733649,
            "_view_module": "@jupyter-widgets/controls",
            "_model_module_version": "1.5.0",
            "value": 244733649,
            "_view_count": null,
            "_view_module_version": "1.5.0",
            "orientation": "horizontal",
            "min": 0,
            "description_tooltip": null,
            "_model_module": "@jupyter-widgets/controls",
            "layout": "IPY_MODEL_5f39e3f292594432b9c67afb828362f8"
          }
        },
        "ea96a112b2a448a984c1dfe89822b7aa": {
          "model_module": "@jupyter-widgets/controls",
          "model_name": "HTMLModel",
          "state": {
            "_view_name": "HTMLView",
            "style": "IPY_MODEL_0faabd08115f45339e1c1f49b895c75d",
            "_dom_classes": [],
            "description": "",
            "_model_name": "HTMLModel",
            "placeholder": "​",
            "_view_module": "@jupyter-widgets/controls",
            "_model_module_version": "1.5.0",
            "value": " 245M/245M [00:15&lt;00:00, 16.0MB/s]",
            "_view_count": null,
            "_view_module_version": "1.5.0",
            "description_tooltip": null,
            "_model_module": "@jupyter-widgets/controls",
            "layout": "IPY_MODEL_8c708726f1614ce7a7ef9b16082d1149"
          }
        },
        "51e9f9e8cc1341e0b040090418cc10d3": {
          "model_module": "@jupyter-widgets/controls",
          "model_name": "ProgressStyleModel",
          "state": {
            "_view_name": "StyleView",
            "_model_name": "ProgressStyleModel",
            "description_width": "initial",
            "_view_module": "@jupyter-widgets/base",
            "_model_module_version": "1.5.0",
            "_view_count": null,
            "_view_module_version": "1.2.0",
            "bar_color": null,
            "_model_module": "@jupyter-widgets/controls"
          }
        },
        "5f39e3f292594432b9c67afb828362f8": {
          "model_module": "@jupyter-widgets/base",
          "model_name": "LayoutModel",
          "state": {
            "_view_name": "LayoutView",
            "grid_template_rows": null,
            "right": null,
            "justify_content": null,
            "_view_module": "@jupyter-widgets/base",
            "overflow": null,
            "_model_module_version": "1.2.0",
            "_view_count": null,
            "flex_flow": null,
            "width": null,
            "min_width": null,
            "border": null,
            "align_items": null,
            "bottom": null,
            "_model_module": "@jupyter-widgets/base",
            "top": null,
            "grid_column": null,
            "overflow_y": null,
            "overflow_x": null,
            "grid_auto_flow": null,
            "grid_area": null,
            "grid_template_columns": null,
            "flex": null,
            "_model_name": "LayoutModel",
            "justify_items": null,
            "grid_row": null,
            "max_height": null,
            "align_content": null,
            "visibility": null,
            "align_self": null,
            "height": null,
            "min_height": null,
            "padding": null,
            "grid_auto_rows": null,
            "grid_gap": null,
            "max_width": null,
            "order": null,
            "_view_module_version": "1.2.0",
            "grid_template_areas": null,
            "object_position": null,
            "object_fit": null,
            "grid_auto_columns": null,
            "margin": null,
            "display": null,
            "left": null
          }
        },
        "0faabd08115f45339e1c1f49b895c75d": {
          "model_module": "@jupyter-widgets/controls",
          "model_name": "DescriptionStyleModel",
          "state": {
            "_view_name": "StyleView",
            "_model_name": "DescriptionStyleModel",
            "description_width": "",
            "_view_module": "@jupyter-widgets/base",
            "_model_module_version": "1.5.0",
            "_view_count": null,
            "_view_module_version": "1.2.0",
            "_model_module": "@jupyter-widgets/controls"
          }
        },
        "8c708726f1614ce7a7ef9b16082d1149": {
          "model_module": "@jupyter-widgets/base",
          "model_name": "LayoutModel",
          "state": {
            "_view_name": "LayoutView",
            "grid_template_rows": null,
            "right": null,
            "justify_content": null,
            "_view_module": "@jupyter-widgets/base",
            "overflow": null,
            "_model_module_version": "1.2.0",
            "_view_count": null,
            "flex_flow": null,
            "width": null,
            "min_width": null,
            "border": null,
            "align_items": null,
            "bottom": null,
            "_model_module": "@jupyter-widgets/base",
            "top": null,
            "grid_column": null,
            "overflow_y": null,
            "overflow_x": null,
            "grid_auto_flow": null,
            "grid_area": null,
            "grid_template_columns": null,
            "flex": null,
            "_model_name": "LayoutModel",
            "justify_items": null,
            "grid_row": null,
            "max_height": null,
            "align_content": null,
            "visibility": null,
            "align_self": null,
            "height": null,
            "min_height": null,
            "padding": null,
            "grid_auto_rows": null,
            "grid_gap": null,
            "max_width": null,
            "order": null,
            "_view_module_version": "1.2.0",
            "grid_template_areas": null,
            "object_position": null,
            "object_fit": null,
            "grid_auto_columns": null,
            "margin": null,
            "display": null,
            "left": null
          }
        }
      }
    }
  },
  "cells": [
    {
      "cell_type": "markdown",
      "metadata": {
        "id": "ARVavaUcbT0O"
      },
      "source": [
        "https://towardsdatascience.com/keyword-extraction-with-bert-724efca412ea"
      ]
    },
    {
      "cell_type": "code",
      "metadata": {
        "colab": {
          "base_uri": "https://localhost:8080/"
        },
        "id": "BE4CUhYIRgrF",
        "outputId": "3f5861b5-c41d-440d-83ea-3b42eab6d285"
      },
      "source": [
        "! pip install sentence-transformers"
      ],
      "execution_count": 3,
      "outputs": [
        {
          "output_type": "stream",
          "text": [
            "Requirement already satisfied: sentence-transformers in /usr/local/lib/python3.7/dist-packages (1.2.0)\n",
            "Requirement already satisfied: tqdm in /usr/local/lib/python3.7/dist-packages (from sentence-transformers) (4.41.1)\n",
            "Requirement already satisfied: transformers<5.0.0,>=3.1.0 in /usr/local/lib/python3.7/dist-packages (from sentence-transformers) (4.6.1)\n",
            "Requirement already satisfied: scipy in /usr/local/lib/python3.7/dist-packages (from sentence-transformers) (1.4.1)\n",
            "Requirement already satisfied: torchvision in /usr/local/lib/python3.7/dist-packages (from sentence-transformers) (0.9.1+cu101)\n",
            "Requirement already satisfied: sentencepiece in /usr/local/lib/python3.7/dist-packages (from sentence-transformers) (0.1.95)\n",
            "Requirement already satisfied: torch>=1.6.0 in /usr/local/lib/python3.7/dist-packages (from sentence-transformers) (1.8.1+cu101)\n",
            "Requirement already satisfied: scikit-learn in /usr/local/lib/python3.7/dist-packages (from sentence-transformers) (0.22.2.post1)\n",
            "Requirement already satisfied: nltk in /usr/local/lib/python3.7/dist-packages (from sentence-transformers) (3.2.5)\n",
            "Requirement already satisfied: numpy in /usr/local/lib/python3.7/dist-packages (from sentence-transformers) (1.19.5)\n",
            "Requirement already satisfied: filelock in /usr/local/lib/python3.7/dist-packages (from transformers<5.0.0,>=3.1.0->sentence-transformers) (3.0.12)\n",
            "Requirement already satisfied: packaging in /usr/local/lib/python3.7/dist-packages (from transformers<5.0.0,>=3.1.0->sentence-transformers) (20.9)\n",
            "Requirement already satisfied: tokenizers<0.11,>=0.10.1 in /usr/local/lib/python3.7/dist-packages (from transformers<5.0.0,>=3.1.0->sentence-transformers) (0.10.3)\n",
            "Requirement already satisfied: importlib-metadata; python_version < \"3.8\" in /usr/local/lib/python3.7/dist-packages (from transformers<5.0.0,>=3.1.0->sentence-transformers) (4.0.1)\n",
            "Requirement already satisfied: requests in /usr/local/lib/python3.7/dist-packages (from transformers<5.0.0,>=3.1.0->sentence-transformers) (2.23.0)\n",
            "Requirement already satisfied: sacremoses in /usr/local/lib/python3.7/dist-packages (from transformers<5.0.0,>=3.1.0->sentence-transformers) (0.0.45)\n",
            "Requirement already satisfied: huggingface-hub==0.0.8 in /usr/local/lib/python3.7/dist-packages (from transformers<5.0.0,>=3.1.0->sentence-transformers) (0.0.8)\n",
            "Requirement already satisfied: regex!=2019.12.17 in /usr/local/lib/python3.7/dist-packages (from transformers<5.0.0,>=3.1.0->sentence-transformers) (2019.12.20)\n",
            "Requirement already satisfied: pillow>=4.1.1 in /usr/local/lib/python3.7/dist-packages (from torchvision->sentence-transformers) (7.1.2)\n",
            "Requirement already satisfied: typing-extensions in /usr/local/lib/python3.7/dist-packages (from torch>=1.6.0->sentence-transformers) (3.7.4.3)\n",
            "Requirement already satisfied: joblib>=0.11 in /usr/local/lib/python3.7/dist-packages (from scikit-learn->sentence-transformers) (1.0.1)\n",
            "Requirement already satisfied: six in /usr/local/lib/python3.7/dist-packages (from nltk->sentence-transformers) (1.15.0)\n",
            "Requirement already satisfied: pyparsing>=2.0.2 in /usr/local/lib/python3.7/dist-packages (from packaging->transformers<5.0.0,>=3.1.0->sentence-transformers) (2.4.7)\n",
            "Requirement already satisfied: zipp>=0.5 in /usr/local/lib/python3.7/dist-packages (from importlib-metadata; python_version < \"3.8\"->transformers<5.0.0,>=3.1.0->sentence-transformers) (3.4.1)\n",
            "Requirement already satisfied: certifi>=2017.4.17 in /usr/local/lib/python3.7/dist-packages (from requests->transformers<5.0.0,>=3.1.0->sentence-transformers) (2020.12.5)\n",
            "Requirement already satisfied: idna<3,>=2.5 in /usr/local/lib/python3.7/dist-packages (from requests->transformers<5.0.0,>=3.1.0->sentence-transformers) (2.10)\n",
            "Requirement already satisfied: urllib3!=1.25.0,!=1.25.1,<1.26,>=1.21.1 in /usr/local/lib/python3.7/dist-packages (from requests->transformers<5.0.0,>=3.1.0->sentence-transformers) (1.24.3)\n",
            "Requirement already satisfied: chardet<4,>=3.0.2 in /usr/local/lib/python3.7/dist-packages (from requests->transformers<5.0.0,>=3.1.0->sentence-transformers) (3.0.4)\n",
            "Requirement already satisfied: click in /usr/local/lib/python3.7/dist-packages (from sacremoses->transformers<5.0.0,>=3.1.0->sentence-transformers) (7.1.2)\n"
          ],
          "name": "stdout"
        }
      ]
    },
    {
      "cell_type": "code",
      "metadata": {
        "id": "8eNCqatEbdnO"
      },
      "source": [
        "import pandas as pd\n",
        "import numpy as np\n",
        "import itertools\n",
        "\n",
        "from sklearn.feature_extraction.text import CountVectorizer\n",
        "from sentence_transformers import SentenceTransformer\n",
        "from sklearn.metrics.pairwise import cosine_similarity"
      ],
      "execution_count": 4,
      "outputs": []
    },
    {
      "cell_type": "code",
      "metadata": {
        "id": "Oyq6JvGPV6-N",
        "colab": {
          "base_uri": "https://localhost:8080/"
        },
        "outputId": "e84d6679-ccf0-4fc4-b1a4-e1217686b7a4"
      },
      "source": [
        "import nltk\n",
        "from nltk.corpus import words\n",
        "from nltk.stem.wordnet import WordNetLemmatizer\n",
        "\n",
        "nltk.download('words')\n",
        "nltk.download('wordnet')\n",
        "nltk.download('stopwords')\n",
        "\n",
        "stopwords = set(nltk.corpus.stopwords.words('spanish'))\n",
        "include_stopwords = {'mas', 'menos', 'null', 'none'}\n",
        "stopwords |= include_stopwords\n",
        "print(\"Total spanish stopwords: {}\\n\".format(len(stopwords)))"
      ],
      "execution_count": 5,
      "outputs": [
        {
          "output_type": "stream",
          "text": [
            "[nltk_data] Downloading package words to /root/nltk_data...\n",
            "[nltk_data]   Unzipping corpora/words.zip.\n",
            "[nltk_data] Downloading package wordnet to /root/nltk_data...\n",
            "[nltk_data]   Unzipping corpora/wordnet.zip.\n",
            "[nltk_data] Downloading package stopwords to /root/nltk_data...\n",
            "[nltk_data]   Unzipping corpora/stopwords.zip.\n",
            "Total spanish stopwords: 317\n",
            "\n"
          ],
          "name": "stdout"
        }
      ]
    },
    {
      "cell_type": "code",
      "metadata": {
        "id": "rLa-URVWQXEP"
      },
      "source": [
        "doc = \"\"\"\n",
        "         Rol\n",
        "\n",
        "    Científico(a) de Datos Senior\n",
        "\n",
        "Descripcion\n",
        "\n",
        "    ¡Buscamos a las personas adecuadas, personas que deseen innovar, crear, liderar, transformar! Queremos atraerte, pero más allá de eso queremos contar con el mejor talento, estamos comprometidos con el desarrollo profesional de cada uno de nuestros colaboradores. Queremos que experimentes los desafíos, recompensas y oportunidades de trabajar con la mejor empresa de telecomunicaciones del país ¿Te atreves?\n",
        "\n",
        "Requisitos\n",
        "\n",
        "    Profesional en Economía, Estadística, Matemáticas, Ingeniería Industrial, Sistemas, Electrónica, Telecomunicaciones o carreras afines.\n",
        "    Maestría en economía, estadística o equivalentes.\n",
        "    Experiencia mínimo de cinco (5) años en manejo avanzado de R / Python, Machine Learning.\n",
        "    Construcción de Modelos Analíticos o Geo Espaciales.\n",
        "    Indispensable experiencia en Azure Databricks y Machine Learning.\n",
        "    Análisis descriptivos, modelos de clasificación, Cluster, arboles de decisión, manejo de Jupyter, TensorFlow, Keras.\n",
        "\n",
        "Condiciones Laborales\n",
        "\n",
        "    Lugar de Trabajo: Bogotá.\n",
        "    Tipo de Contrato: A Término Indefinido.\n",
        "    Salario: A convenir de acuerdo a la experiencia.\n",
        "\n",
        "Esta vacante es divulgada a través de ticjob.co\n",
        "      \"\"\""
      ],
      "execution_count": 6,
      "outputs": []
    },
    {
      "cell_type": "code",
      "metadata": {
        "id": "D4O8YSKhQstW"
      },
      "source": [
        "n_gram_range = (2, 2)\n",
        "#stop_words = \"spanish\"\n",
        "#my_stop_words = [lemma(t) for t in stopwords.words('spanish')]\n",
        "\n",
        "# Extract candidate words/phrases\n",
        "count = CountVectorizer(ngram_range=n_gram_range, stop_words=stopwords).fit([doc])\n",
        "candidates = count.get_feature_names()"
      ],
      "execution_count": 7,
      "outputs": []
    },
    {
      "cell_type": "code",
      "metadata": {
        "id": "y2SJxvfoQzZz",
        "colab": {
          "base_uri": "https://localhost:8080/",
          "height": 66,
          "referenced_widgets": [
            "db393141c26f4752ad19d5790cbaedea",
            "1f9c1aa746614c27944e34d09dff0e05",
            "169b110706614b24aca493805c371729",
            "ea96a112b2a448a984c1dfe89822b7aa",
            "51e9f9e8cc1341e0b040090418cc10d3",
            "5f39e3f292594432b9c67afb828362f8",
            "0faabd08115f45339e1c1f49b895c75d",
            "8c708726f1614ce7a7ef9b16082d1149"
          ]
        },
        "outputId": "9ef68fb5-d357-4e50-e175-a37edbf93bf4"
      },
      "source": [
        "model = SentenceTransformer('distilbert-base-nli-mean-tokens')\n",
        "doc_embedding = model.encode([doc])\n",
        "candidate_embeddings = model.encode(candidates)"
      ],
      "execution_count": 8,
      "outputs": [
        {
          "output_type": "display_data",
          "data": {
            "application/vnd.jupyter.widget-view+json": {
              "model_id": "db393141c26f4752ad19d5790cbaedea",
              "version_minor": 0,
              "version_major": 2
            },
            "text/plain": [
              "HBox(children=(FloatProgress(value=0.0, max=244733649.0), HTML(value='')))"
            ]
          },
          "metadata": {
            "tags": []
          }
        },
        {
          "output_type": "stream",
          "text": [
            "\n"
          ],
          "name": "stdout"
        }
      ]
    },
    {
      "cell_type": "code",
      "metadata": {
        "id": "9rvh_4WaQ0Ld"
      },
      "source": [
        "top_n = 15\n",
        "distances = cosine_similarity(doc_embedding, candidate_embeddings)\n",
        "keywords = [candidates[index] for index in distances.argsort()[0][-top_n:]]"
      ],
      "execution_count": 9,
      "outputs": []
    },
    {
      "cell_type": "code",
      "metadata": {
        "colab": {
          "base_uri": "https://localhost:8080/"
        },
        "id": "t_xTV4pORBCC",
        "outputId": "a728bb54-19d5-438f-f33a-e2b0328ef737"
      },
      "source": [
        "keywords"
      ],
      "execution_count": 10,
      "outputs": [
        {
          "output_type": "execute_result",
          "data": {
            "text/plain": [
              "['requisitos profesional',\n",
              " 'allá queremos',\n",
              " 'descriptivos modelos',\n",
              " 'rol científico',\n",
              " 'modelos analíticos',\n",
              " 'lugar trabajo',\n",
              " 'descripcion buscamos',\n",
              " 'modelos clasificación',\n",
              " 'cada colaboradores',\n",
              " 'oportunidades trabajar',\n",
              " 'construcción modelos',\n",
              " 'transformar queremos',\n",
              " 'buscamos personas',\n",
              " 'recompensas oportunidades',\n",
              " 'colaboradores queremos']"
            ]
          },
          "metadata": {
            "tags": []
          },
          "execution_count": 10
        }
      ]
    },
    {
      "cell_type": "code",
      "metadata": {
        "id": "xq3crlNARMKZ"
      },
      "source": [
        "def max_sum_sim(doc_embedding, word_embeddings, words, top_n, nr_candidates):\n",
        "    # Calculate distances and extract keywords\n",
        "    distances = cosine_similarity(doc_embedding, candidate_embeddings)\n",
        "    distances_candidates = cosine_similarity(candidate_embeddings, \n",
        "                                            candidate_embeddings)\n",
        "\n",
        "    # Get top_n words as candidates based on cosine similarity\n",
        "    words_idx = list(distances.argsort()[0][-nr_candidates:])\n",
        "    words_vals = [candidates[index] for index in words_idx]\n",
        "    distances_candidates = distances_candidates[np.ix_(words_idx, words_idx)]\n",
        "\n",
        "    # Calculate the combination of words that are the least similar to each other\n",
        "    min_sim = np.inf\n",
        "    candidate = None\n",
        "    for combination in itertools.combinations(range(len(words_idx)), top_n):\n",
        "        sim = sum([distances_candidates[i][j] for i in combination for j in combination if i != j])\n",
        "        if sim < min_sim:\n",
        "            candidate = combination\n",
        "            min_sim = sim\n",
        "\n",
        "    return [words_vals[idx] for idx in candidate]"
      ],
      "execution_count": 11,
      "outputs": []
    },
    {
      "cell_type": "code",
      "metadata": {
        "colab": {
          "base_uri": "https://localhost:8080/"
        },
        "id": "fhlnwJQgR6M9",
        "outputId": "2080ccad-32cf-45cd-9326-b63ca9003546"
      },
      "source": [
        "max_sum_sim(doc_embedding,candidate_embeddings,candidates,top_n=15,nr_candidates=15)"
      ],
      "execution_count": 12,
      "outputs": [
        {
          "output_type": "execute_result",
          "data": {
            "text/plain": [
              "['requisitos profesional',\n",
              " 'allá queremos',\n",
              " 'descriptivos modelos',\n",
              " 'rol científico',\n",
              " 'modelos analíticos',\n",
              " 'lugar trabajo',\n",
              " 'descripcion buscamos',\n",
              " 'modelos clasificación',\n",
              " 'cada colaboradores',\n",
              " 'oportunidades trabajar',\n",
              " 'construcción modelos',\n",
              " 'transformar queremos',\n",
              " 'buscamos personas',\n",
              " 'recompensas oportunidades',\n",
              " 'colaboradores queremos']"
            ]
          },
          "metadata": {
            "tags": []
          },
          "execution_count": 12
        }
      ]
    },
    {
      "cell_type": "code",
      "metadata": {
        "id": "m1HNC0q4UHQ4"
      },
      "source": [
        "def mmr(doc_embedding, word_embeddings, words, top_n, diversity):\n",
        "\n",
        "    # Extract similarity within words, and between words and the document\n",
        "    word_doc_similarity = cosine_similarity(word_embeddings, doc_embedding)\n",
        "    word_similarity = cosine_similarity(word_embeddings)\n",
        "\n",
        "    # Initialize candidates and already choose best keyword/keyphras\n",
        "    keywords_idx = [np.argmax(word_doc_similarity)]\n",
        "    candidates_idx = [i for i in range(len(words)) if i != keywords_idx[0]]\n",
        "\n",
        "    for _ in range(top_n - 1):\n",
        "        # Extract similarities within candidates and\n",
        "        # between candidates and selected keywords/phrases\n",
        "        candidate_similarities = word_doc_similarity[candidates_idx, :]\n",
        "        target_similarities = np.max(word_similarity[candidates_idx][:, keywords_idx], axis=1)\n",
        "\n",
        "        # Calculate MMR\n",
        "        mmr = (1-diversity) * candidate_similarities - diversity * target_similarities.reshape(-1, 1)\n",
        "        mmr_idx = candidates_idx[np.argmax(mmr)]\n",
        "\n",
        "        # Update keywords & candidates\n",
        "        keywords_idx.append(mmr_idx)\n",
        "        candidates_idx.remove(mmr_idx)\n",
        "\n",
        "    return [words[idx] for idx in keywords_idx]"
      ],
      "execution_count": 13,
      "outputs": []
    },
    {
      "cell_type": "code",
      "metadata": {
        "colab": {
          "base_uri": "https://localhost:8080/"
        },
        "id": "SZ5toSgmXPaF",
        "outputId": "5f230692-62da-4c21-ac09-95ff18fc7b2b"
      },
      "source": [
        "mmr(doc_embedding, candidate_embeddings, candidates, top_n = 15, diversity = 1)"
      ],
      "execution_count": 14,
      "outputs": [
        {
          "output_type": "execute_result",
          "data": {
            "text/plain": [
              "['colaboradores queremos',\n",
              " 'machine learning',\n",
              " 'senior descripcion',\n",
              " 'avanzado python',\n",
              " 'analíticos geo',\n",
              " 'azure databricks',\n",
              " 'indispensable experiencia',\n",
              " 'trabajo bogotá',\n",
              " 'sistemas electrónica',\n",
              " 'descripcion buscamos',\n",
              " 'jupyter tensorflow',\n",
              " 'economía estadística',\n",
              " 'experiencia mínimo',\n",
              " 'condiciones laborales',\n",
              " 'mejor talento']"
            ]
          },
          "metadata": {
            "tags": []
          },
          "execution_count": 14
        }
      ]
    },
    {
      "cell_type": "code",
      "metadata": {
        "id": "S5W2IvjWhaTp"
      },
      "source": [
        "def keywords(doc,n_gram_range,top_n):\n",
        "  #n_gram_range = (2, 2)\n",
        "\n",
        "  # Extract candidate words/phrases\n",
        "  try:\n",
        "    count = CountVectorizer(ngram_range=n_gram_range, stop_words=stopwords).fit([doc])\n",
        "    candidates = count.get_feature_names()\n",
        "\n",
        "    model = SentenceTransformer('distilbert-base-nli-mean-tokens')\n",
        "    doc_embedding = model.encode([doc])\n",
        "    candidate_embeddings = model.encode(candidates)\n",
        "\n",
        "    #top_n = 15\n",
        "    distances = cosine_similarity(doc_embedding, candidate_embeddings)\n",
        "    keywords = [candidates[index] for index in distances.argsort()[0][-top_n:]]\n",
        "  \n",
        "  except:\n",
        "    keywords = []\n",
        "\n",
        "  return keywords"
      ],
      "execution_count": 15,
      "outputs": []
    },
    {
      "cell_type": "code",
      "metadata": {
        "colab": {
          "base_uri": "https://localhost:8080/"
        },
        "id": "1zc8zniBiKdU",
        "outputId": "fdb54c2c-1472-4c3c-af30-ed0aeacae368"
      },
      "source": [
        "keywords(doc,n_gram_range = (3, 3),top_n=15)"
      ],
      "execution_count": 16,
      "outputs": [
        {
          "output_type": "execute_result",
          "data": {
            "text/plain": [
              "['atraerte allá queremos',\n",
              " 'comprometidos desarrollo profesional',\n",
              " 'liderar transformar queremos',\n",
              " 'desafíos recompensas oportunidades',\n",
              " 'descripcion buscamos personas',\n",
              " 'construcción modelos analíticos',\n",
              " 'cada colaboradores queremos',\n",
              " 'allá queremos contar',\n",
              " 'colaboradores queremos experimentes',\n",
              " 'oportunidades trabajar mejor',\n",
              " 'laborales lugar trabajo',\n",
              " 'talento comprometidos desarrollo',\n",
              " 'recompensas oportunidades trabajar',\n",
              " 'profesional cada colaboradores',\n",
              " 'buscamos personas adecuadas']"
            ]
          },
          "metadata": {
            "tags": []
          },
          "execution_count": 16
        }
      ]
    },
    {
      "cell_type": "code",
      "metadata": {
        "id": "8eC35D0NeHL7"
      },
      "source": [
        "def max_sum_sim_iter(doc, n_gram_range, top_n, nr_candidates):\n",
        "\n",
        "    try:\n",
        "\n",
        "      #n_gram_range = (2, 2)\n",
        "      #stop_words = \"spanish\"\n",
        "      #my_stop_words = [lemma(t) for t in stopwords.words('spanish')]\n",
        "\n",
        "      # Extract candidate words/phrases\n",
        "      count = CountVectorizer(ngram_range=n_gram_range, stop_words=stopwords).fit([doc])\n",
        "      candidates = count.get_feature_names()\n",
        "\n",
        "      model = SentenceTransformer('distilbert-base-nli-mean-tokens')\n",
        "      doc_embedding = model.encode([doc])\n",
        "      candidate_embeddings = model.encode(candidates)\n",
        "\n",
        "      # Calculate distances and extract keywords\n",
        "      distances = cosine_similarity(doc_embedding, candidate_embeddings)\n",
        "      distances_candidates = cosine_similarity(candidate_embeddings, \n",
        "                                              candidate_embeddings)\n",
        "\n",
        "      # Get top_n words as candidates based on cosine similarity\n",
        "      words_idx = list(distances.argsort()[0][-nr_candidates:])\n",
        "      words_vals = [candidates[index] for index in words_idx]\n",
        "      distances_candidates = distances_candidates[np.ix_(words_idx, words_idx)]\n",
        "\n",
        "      # Calculate the combination of words that are the least similar to each other\n",
        "      min_sim = np.inf\n",
        "      candidate = None\n",
        "      for combination in itertools.combinations(range(len(words_idx)), top_n):\n",
        "          sim = sum([distances_candidates[i][j] for i in combination for j in combination if i != j])\n",
        "          if sim < min_sim:\n",
        "              candidate = combination\n",
        "              min_sim = sim\n",
        "      try:\n",
        "        result = [words_vals[idx] for idx in candidate]\n",
        "      except:\n",
        "        result = []\n",
        "    \n",
        "    except:\n",
        "      result = []\n",
        "    \n",
        "    return result\n"
      ],
      "execution_count": 17,
      "outputs": []
    },
    {
      "cell_type": "code",
      "metadata": {
        "colab": {
          "base_uri": "https://localhost:8080/"
        },
        "id": "TIyN7hF8fwnx",
        "outputId": "05792b92-4994-4ec9-ff77-dbb2d88996eb"
      },
      "source": [
        "max_sum_sim_iter(doc, n_gram_range = (3, 3),top_n=15,nr_candidates=15)"
      ],
      "execution_count": 18,
      "outputs": [
        {
          "output_type": "execute_result",
          "data": {
            "text/plain": [
              "['atraerte allá queremos',\n",
              " 'comprometidos desarrollo profesional',\n",
              " 'liderar transformar queremos',\n",
              " 'desafíos recompensas oportunidades',\n",
              " 'descripcion buscamos personas',\n",
              " 'construcción modelos analíticos',\n",
              " 'cada colaboradores queremos',\n",
              " 'allá queremos contar',\n",
              " 'colaboradores queremos experimentes',\n",
              " 'oportunidades trabajar mejor',\n",
              " 'laborales lugar trabajo',\n",
              " 'talento comprometidos desarrollo',\n",
              " 'recompensas oportunidades trabajar',\n",
              " 'profesional cada colaboradores',\n",
              " 'buscamos personas adecuadas']"
            ]
          },
          "metadata": {
            "tags": []
          },
          "execution_count": 18
        }
      ]
    },
    {
      "cell_type": "code",
      "metadata": {
        "id": "nvwQv9Pui8Jm"
      },
      "source": [
        "def mmr_iter(doc, n_gram_range, top_n, diversity):\n",
        "\n",
        "    try:\n",
        "      #n_gram_range = (2, 2)\n",
        "      #stop_words = \"spanish\"\n",
        "      #my_stop_words = [lemma(t) for t in stopwords.words('spanish')]\n",
        "\n",
        "      # Extract candidate words/phrases\n",
        "      count = CountVectorizer(ngram_range=n_gram_range, stop_words=stopwords).fit([doc])\n",
        "      candidates = count.get_feature_names()\n",
        "\n",
        "      model = SentenceTransformer('distilbert-base-nli-mean-tokens')\n",
        "      doc_embedding = model.encode([doc])\n",
        "      candidate_embeddings = model.encode(candidates)\n",
        "\n",
        "      # Extract similarity within words, and between words and the document\n",
        "      word_doc_similarity = cosine_similarity(candidate_embeddings, doc_embedding)\n",
        "      word_similarity = cosine_similarity(candidate_embeddings)\n",
        "\n",
        "      # Initialize candidates and already choose best keyword/keyphras\n",
        "      try:\n",
        "        keywords_idx = [np.argmax(word_doc_similarity)]\n",
        "      except:\n",
        "        keywords_idx = []\n",
        "      candidates_idx = [i for i in range(len(candidates)) if i != keywords_idx[0]]\n",
        "\n",
        "      for _ in range(top_n - 1):\n",
        "          # Extract similarities within candidates and\n",
        "          # between candidates and selected keywords/phrases\n",
        "          candidate_similarities = word_doc_similarity[candidates_idx, :]\n",
        "          try:\n",
        "            target_similarities = np.max(word_similarity[candidates_idx][:, keywords_idx], axis=1)\n",
        "          except:\n",
        "            target_similarities = np.empty((1,1),dtype=object)\n",
        "\n",
        "          # Calculate MMR\n",
        "          try:\n",
        "            mmr = (1-diversity) * candidate_similarities - diversity * target_similarities.reshape(-1, 1)\n",
        "          except:\n",
        "            mmr = np.empty((1,1),dtype=object)\n",
        "          try:\n",
        "            mmr_idx = candidates_idx[np.argmax(mmr)]\n",
        "          except:\n",
        "            mmr_idx = None\n",
        "\n",
        "          # Update keywords & candidates\n",
        "          keywords_idx.append(mmr_idx)\n",
        "          try:\n",
        "            candidates_idx.remove(mmr_idx)\n",
        "          except:\n",
        "            continue\n",
        "\n",
        "      try:\n",
        "        result = [candidates[idx] for idx in keywords_idx]\n",
        "      except:\n",
        "        result = []\n",
        "\n",
        "    except:\n",
        "      result = []\n",
        "\n",
        "    return result"
      ],
      "execution_count": 19,
      "outputs": []
    },
    {
      "cell_type": "code",
      "metadata": {
        "colab": {
          "base_uri": "https://localhost:8080/"
        },
        "id": "bqPOX45jjw4_",
        "outputId": "adee7d3a-8570-42d8-be3e-3f1ab2736ef9"
      },
      "source": [
        "mmr_iter(doc,n_gram_range = (3,3),top_n = 15, diversity = 1)"
      ],
      "execution_count": 20,
      "outputs": [
        {
          "output_type": "execute_result",
          "data": {
            "text/plain": [
              "['buscamos personas adecuadas',\n",
              " 'python machine learning',\n",
              " 'indispensable experiencia azure',\n",
              " 'matemáticas ingeniería industrial',\n",
              " 'datos senior descripcion',\n",
              " 'bogotá tipo contrato',\n",
              " 'learning análisis descriptivos',\n",
              " 'manejo avanzado python',\n",
              " 'contar mejor talento',\n",
              " 'modelos analíticos geo',\n",
              " 'manejo jupyter tensorflow',\n",
              " 'azure databricks machine',\n",
              " 'maestría economía estadística',\n",
              " 'vacante divulgada través',\n",
              " 'crear liderar transformar']"
            ]
          },
          "metadata": {
            "tags": []
          },
          "execution_count": 20
        }
      ]
    },
    {
      "cell_type": "code",
      "metadata": {
        "colab": {
          "base_uri": "https://localhost:8080/",
          "height": 606
        },
        "id": "I6CXM-eVavvv",
        "outputId": "132d22d7-fc25-4b35-c915-487d216c800d"
      },
      "source": [
        "category_model = pd.read_excel('/content/category_model.xlsx')\n",
        "category_model"
      ],
      "execution_count": 21,
      "outputs": [
        {
          "output_type": "execute_result",
          "data": {
            "text/html": [
              "<div>\n",
              "<style scoped>\n",
              "    .dataframe tbody tr th:only-of-type {\n",
              "        vertical-align: middle;\n",
              "    }\n",
              "\n",
              "    .dataframe tbody tr th {\n",
              "        vertical-align: top;\n",
              "    }\n",
              "\n",
              "    .dataframe thead th {\n",
              "        text-align: right;\n",
              "    }\n",
              "</style>\n",
              "<table border=\"1\" class=\"dataframe\">\n",
              "  <thead>\n",
              "    <tr style=\"text-align: right;\">\n",
              "      <th></th>\n",
              "      <th>Unnamed: 0</th>\n",
              "      <th>categoria</th>\n",
              "      <th>prediction_with_category_model</th>\n",
              "      <th>grouped_doc</th>\n",
              "    </tr>\n",
              "  </thead>\n",
              "  <tbody>\n",
              "    <tr>\n",
              "      <th>0</th>\n",
              "      <td>20</td>\n",
              "      <td>administracion_oficina</td>\n",
              "      <td>0</td>\n",
              "      <td>auxiliar i atencion integral clientes ¡unete t...</td>\n",
              "    </tr>\n",
              "    <tr>\n",
              "      <th>1</th>\n",
              "      <td>406</td>\n",
              "      <td>administracion_oficina</td>\n",
              "      <td>1</td>\n",
              "      <td>prueba nov asdasd gerente regional cav s geren...</td>\n",
              "    </tr>\n",
              "    <tr>\n",
              "      <th>2</th>\n",
              "      <td>14</td>\n",
              "      <td>administracion_oficina</td>\n",
              "      <td>2</td>\n",
              "      <td>scrum master liderar guiar equipos desarrollo ...</td>\n",
              "    </tr>\n",
              "    <tr>\n",
              "      <th>3</th>\n",
              "      <td>13</td>\n",
              "      <td>administracion_oficina</td>\n",
              "      <td>3</td>\n",
              "      <td>analista i estructura contratacion ¡unete tale...</td>\n",
              "    </tr>\n",
              "    <tr>\n",
              "      <th>4</th>\n",
              "      <td>943</td>\n",
              "      <td>bodega_logistica_y_transporte</td>\n",
              "      <td>0</td>\n",
              "      <td>supervisor produccion oferta empleo buscamos p...</td>\n",
              "    </tr>\n",
              "    <tr>\n",
              "      <th>...</th>\n",
              "      <td>...</td>\n",
              "      <td>...</td>\n",
              "      <td>...</td>\n",
              "      <td>...</td>\n",
              "    </tr>\n",
              "    <tr>\n",
              "      <th>83</th>\n",
              "      <td>0</td>\n",
              "      <td>software_informatica_y_telecomunicaciones</td>\n",
              "      <td>3</td>\n",
              "      <td>analista ii desarrollo mantenimiento ¡unete ta...</td>\n",
              "    </tr>\n",
              "    <tr>\n",
              "      <th>84</th>\n",
              "      <td>423</td>\n",
              "      <td>ventas</td>\n",
              "      <td>0</td>\n",
              "      <td>promotor tecnologia riohacha importante compan...</td>\n",
              "    </tr>\n",
              "    <tr>\n",
              "      <th>85</th>\n",
              "      <td>71</td>\n",
              "      <td>ventas</td>\n",
              "      <td>1</td>\n",
              "      <td>consultor inversiones barranquilla ¡unete tale...</td>\n",
              "    </tr>\n",
              "    <tr>\n",
              "      <th>86</th>\n",
              "      <td>467</td>\n",
              "      <td>ventas</td>\n",
              "      <td>2</td>\n",
              "      <td>director tienda persona experiencia manejo per...</td>\n",
              "    </tr>\n",
              "    <tr>\n",
              "      <th>87</th>\n",
              "      <td>418</td>\n",
              "      <td>ventas</td>\n",
              "      <td>3</td>\n",
              "      <td>vendedor tat importante empresa editorial cons...</td>\n",
              "    </tr>\n",
              "  </tbody>\n",
              "</table>\n",
              "<p>88 rows × 4 columns</p>\n",
              "</div>"
            ],
            "text/plain": [
              "    Unnamed: 0  ...                                        grouped_doc\n",
              "0           20  ...  auxiliar i atencion integral clientes ¡unete t...\n",
              "1          406  ...  prueba nov asdasd gerente regional cav s geren...\n",
              "2           14  ...  scrum master liderar guiar equipos desarrollo ...\n",
              "3           13  ...  analista i estructura contratacion ¡unete tale...\n",
              "4          943  ...  supervisor produccion oferta empleo buscamos p...\n",
              "..         ...  ...                                                ...\n",
              "83           0  ...  analista ii desarrollo mantenimiento ¡unete ta...\n",
              "84         423  ...  promotor tecnologia riohacha importante compan...\n",
              "85          71  ...  consultor inversiones barranquilla ¡unete tale...\n",
              "86         467  ...  director tienda persona experiencia manejo per...\n",
              "87         418  ...  vendedor tat importante empresa editorial cons...\n",
              "\n",
              "[88 rows x 4 columns]"
            ]
          },
          "metadata": {
            "tags": []
          },
          "execution_count": 21
        }
      ]
    },
    {
      "cell_type": "code",
      "metadata": {
        "colab": {
          "base_uri": "https://localhost:8080/",
          "height": 606
        },
        "id": "aM2aOemwbxPH",
        "outputId": "f7536d30-1f88-4830-cbb1-6d167be36be7"
      },
      "source": [
        "general_model = pd.read_excel('/content/general_model.xlsx')\n",
        "general_model"
      ],
      "execution_count": 22,
      "outputs": [
        {
          "output_type": "execute_result",
          "data": {
            "text/html": [
              "<div>\n",
              "<style scoped>\n",
              "    .dataframe tbody tr th:only-of-type {\n",
              "        vertical-align: middle;\n",
              "    }\n",
              "\n",
              "    .dataframe tbody tr th {\n",
              "        vertical-align: top;\n",
              "    }\n",
              "\n",
              "    .dataframe thead th {\n",
              "        text-align: right;\n",
              "    }\n",
              "</style>\n",
              "<table border=\"1\" class=\"dataframe\">\n",
              "  <thead>\n",
              "    <tr style=\"text-align: right;\">\n",
              "      <th></th>\n",
              "      <th>Unnamed: 0</th>\n",
              "      <th>categoria</th>\n",
              "      <th>prediction_with_general_model</th>\n",
              "      <th>grouped_doc</th>\n",
              "    </tr>\n",
              "  </thead>\n",
              "  <tbody>\n",
              "    <tr>\n",
              "      <th>0</th>\n",
              "      <td>16</td>\n",
              "      <td>administracion_oficina</td>\n",
              "      <td>0</td>\n",
              "      <td>analista planeacion organizacional hdi seguros...</td>\n",
              "    </tr>\n",
              "    <tr>\n",
              "      <th>1</th>\n",
              "      <td>13</td>\n",
              "      <td>administracion_oficina</td>\n",
              "      <td>1</td>\n",
              "      <td>analista i estructura contratacion ¡unete tale...</td>\n",
              "    </tr>\n",
              "    <tr>\n",
              "      <th>2</th>\n",
              "      <td>407</td>\n",
              "      <td>administracion_oficina</td>\n",
              "      <td>2</td>\n",
              "      <td>analistas comercial itpc ccv analistas comerci...</td>\n",
              "    </tr>\n",
              "    <tr>\n",
              "      <th>3</th>\n",
              "      <td>406</td>\n",
              "      <td>administracion_oficina</td>\n",
              "      <td>3</td>\n",
              "      <td>prueba nov asdasd gerente regional cav s geren...</td>\n",
              "    </tr>\n",
              "    <tr>\n",
              "      <th>4</th>\n",
              "      <td>750</td>\n",
              "      <td>bodega_logistica_y_transporte</td>\n",
              "      <td>0</td>\n",
              "      <td>domiciliario funza mosquera madrid requiere ho...</td>\n",
              "    </tr>\n",
              "    <tr>\n",
              "      <th>...</th>\n",
              "      <td>...</td>\n",
              "      <td>...</td>\n",
              "      <td>...</td>\n",
              "      <td>...</td>\n",
              "    </tr>\n",
              "    <tr>\n",
              "      <th>83</th>\n",
              "      <td>112</td>\n",
              "      <td>software_informatica_y_telecomunicaciones</td>\n",
              "      <td>3</td>\n",
              "      <td>ingeniero operacion crm ingeniero operacion cr...</td>\n",
              "    </tr>\n",
              "    <tr>\n",
              "      <th>84</th>\n",
              "      <td>71</td>\n",
              "      <td>ventas</td>\n",
              "      <td>0</td>\n",
              "      <td>consultor inversiones barranquilla ¡unete tale...</td>\n",
              "    </tr>\n",
              "    <tr>\n",
              "      <th>85</th>\n",
              "      <td>426</td>\n",
              "      <td>ventas</td>\n",
              "      <td>1</td>\n",
              "      <td>ejecutivo comercial experiencia venta llantas ...</td>\n",
              "    </tr>\n",
              "    <tr>\n",
              "      <th>86</th>\n",
              "      <td>501</td>\n",
              "      <td>ventas</td>\n",
              "      <td>2</td>\n",
              "      <td>agente seguros juchitan integrate equipo traba...</td>\n",
              "    </tr>\n",
              "    <tr>\n",
              "      <th>87</th>\n",
              "      <td>418</td>\n",
              "      <td>ventas</td>\n",
              "      <td>3</td>\n",
              "      <td>vendedor tat importante empresa editorial cons...</td>\n",
              "    </tr>\n",
              "  </tbody>\n",
              "</table>\n",
              "<p>88 rows × 4 columns</p>\n",
              "</div>"
            ],
            "text/plain": [
              "    Unnamed: 0  ...                                        grouped_doc\n",
              "0           16  ...  analista planeacion organizacional hdi seguros...\n",
              "1           13  ...  analista i estructura contratacion ¡unete tale...\n",
              "2          407  ...  analistas comercial itpc ccv analistas comerci...\n",
              "3          406  ...  prueba nov asdasd gerente regional cav s geren...\n",
              "4          750  ...  domiciliario funza mosquera madrid requiere ho...\n",
              "..         ...  ...                                                ...\n",
              "83         112  ...  ingeniero operacion crm ingeniero operacion cr...\n",
              "84          71  ...  consultor inversiones barranquilla ¡unete tale...\n",
              "85         426  ...  ejecutivo comercial experiencia venta llantas ...\n",
              "86         501  ...  agente seguros juchitan integrate equipo traba...\n",
              "87         418  ...  vendedor tat importante empresa editorial cons...\n",
              "\n",
              "[88 rows x 4 columns]"
            ]
          },
          "metadata": {
            "tags": []
          },
          "execution_count": 22
        }
      ]
    },
    {
      "cell_type": "code",
      "metadata": {
        "id": "sXPK6pz7dKoY"
      },
      "source": [
        "df_category_model = category_model.copy()\n",
        "#df_category_model['keywords'] = df_category_model['grouped_doc'].apply(lambda x: keywords(x,(2,2),15))"
      ],
      "execution_count": 23,
      "outputs": []
    },
    {
      "cell_type": "code",
      "metadata": {
        "id": "6gaR4G7JsrSj"
      },
      "source": [
        "df_category_model['max_sum_sim_iter'] = df_category_model['grouped_doc'].apply(lambda x: max_sum_sim_iter(x,n_gram_range = (2,2),top_n=15,nr_candidates=15))\n",
        "df_category_model"
      ],
      "execution_count": null,
      "outputs": []
    },
    {
      "cell_type": "code",
      "metadata": {
        "colab": {
          "base_uri": "https://localhost:8080/",
          "height": 895
        },
        "id": "s7U133IIstSE",
        "outputId": "eef3f507-fc2a-4a0a-d902-80d6b7d862eb"
      },
      "source": [
        "df_category_model['mmr_iter'] = df_category_model['grouped_doc'].apply(lambda x: mmr_iter(x,n_gram_range = (3,3),top_n = 15, diversity = 1))\n",
        "df_category_model"
      ],
      "execution_count": 24,
      "outputs": [
        {
          "output_type": "execute_result",
          "data": {
            "text/html": [
              "<div>\n",
              "<style scoped>\n",
              "    .dataframe tbody tr th:only-of-type {\n",
              "        vertical-align: middle;\n",
              "    }\n",
              "\n",
              "    .dataframe tbody tr th {\n",
              "        vertical-align: top;\n",
              "    }\n",
              "\n",
              "    .dataframe thead th {\n",
              "        text-align: right;\n",
              "    }\n",
              "</style>\n",
              "<table border=\"1\" class=\"dataframe\">\n",
              "  <thead>\n",
              "    <tr style=\"text-align: right;\">\n",
              "      <th></th>\n",
              "      <th>Unnamed: 0</th>\n",
              "      <th>categoria</th>\n",
              "      <th>prediction_with_category_model</th>\n",
              "      <th>grouped_doc</th>\n",
              "      <th>mmr_iter</th>\n",
              "    </tr>\n",
              "  </thead>\n",
              "  <tbody>\n",
              "    <tr>\n",
              "      <th>0</th>\n",
              "      <td>20</td>\n",
              "      <td>administracion_oficina</td>\n",
              "      <td>0</td>\n",
              "      <td>auxiliar i atencion integral clientes ¡unete t...</td>\n",
              "      <td>[concesionarios clientes independientes, rifle...</td>\n",
              "    </tr>\n",
              "    <tr>\n",
              "      <th>1</th>\n",
              "      <td>406</td>\n",
              "      <td>administracion_oficina</td>\n",
              "      <td>1</td>\n",
              "      <td>prueba nov asdasd gerente regional cav s geren...</td>\n",
              "      <td>[induccion gracias daviplata, nov asdasd geren...</td>\n",
              "    </tr>\n",
              "    <tr>\n",
              "      <th>2</th>\n",
              "      <td>14</td>\n",
              "      <td>administracion_oficina</td>\n",
              "      <td>2</td>\n",
              "      <td>scrum master liderar guiar equipos desarrollo ...</td>\n",
              "      <td>[seguros colombia buscando, minimo producto vi...</td>\n",
              "    </tr>\n",
              "    <tr>\n",
              "      <th>3</th>\n",
              "      <td>13</td>\n",
              "      <td>administracion_oficina</td>\n",
              "      <td>3</td>\n",
              "      <td>analista i estructura contratacion ¡unete tale...</td>\n",
              "      <td>[indefinido analista operaciones, for microsof...</td>\n",
              "    </tr>\n",
              "    <tr>\n",
              "      <th>4</th>\n",
              "      <td>943</td>\n",
              "      <td>bodega_logistica_y_transporte</td>\n",
              "      <td>0</td>\n",
              "      <td>supervisor produccion oferta empleo buscamos p...</td>\n",
              "      <td>[supervisor produccion oferta, cliente vacunas...</td>\n",
              "    </tr>\n",
              "    <tr>\n",
              "      <th>...</th>\n",
              "      <td>...</td>\n",
              "      <td>...</td>\n",
              "      <td>...</td>\n",
              "      <td>...</td>\n",
              "      <td>...</td>\n",
              "    </tr>\n",
              "    <tr>\n",
              "      <th>83</th>\n",
              "      <td>0</td>\n",
              "      <td>software_informatica_y_telecomunicaciones</td>\n",
              "      <td>3</td>\n",
              "      <td>analista ii desarrollo mantenimiento ¡unete ta...</td>\n",
              "      <td>[programacion java oracle, fines experiencia l...</td>\n",
              "    </tr>\n",
              "    <tr>\n",
              "      <th>84</th>\n",
              "      <td>423</td>\n",
              "      <td>ventas</td>\n",
              "      <td>0</td>\n",
              "      <td>promotor tecnologia riohacha importante compan...</td>\n",
              "      <td>[promotor tecnologia riohacha, retail call cen...</td>\n",
              "    </tr>\n",
              "    <tr>\n",
              "      <th>85</th>\n",
              "      <td>71</td>\n",
              "      <td>ventas</td>\n",
              "      <td>1</td>\n",
              "      <td>consultor inversiones barranquilla ¡unete tale...</td>\n",
              "      <td>[impulsadoras bachilleres experiencia, america...</td>\n",
              "    </tr>\n",
              "    <tr>\n",
              "      <th>86</th>\n",
              "      <td>467</td>\n",
              "      <td>ventas</td>\n",
              "      <td>2</td>\n",
              "      <td>director tienda persona experiencia manejo per...</td>\n",
              "      <td>[prinicipales responsabilidades liderar, great...</td>\n",
              "    </tr>\n",
              "    <tr>\n",
              "      <th>87</th>\n",
              "      <td>418</td>\n",
              "      <td>ventas</td>\n",
              "      <td>3</td>\n",
              "      <td>vendedor tat importante empresa editorial cons...</td>\n",
              "      <td>[puerta puerta armenia, restaurantes gourmet r...</td>\n",
              "    </tr>\n",
              "  </tbody>\n",
              "</table>\n",
              "<p>88 rows × 5 columns</p>\n",
              "</div>"
            ],
            "text/plain": [
              "    Unnamed: 0  ...                                           mmr_iter\n",
              "0           20  ...  [concesionarios clientes independientes, rifle...\n",
              "1          406  ...  [induccion gracias daviplata, nov asdasd geren...\n",
              "2           14  ...  [seguros colombia buscando, minimo producto vi...\n",
              "3           13  ...  [indefinido analista operaciones, for microsof...\n",
              "4          943  ...  [supervisor produccion oferta, cliente vacunas...\n",
              "..         ...  ...                                                ...\n",
              "83           0  ...  [programacion java oracle, fines experiencia l...\n",
              "84         423  ...  [promotor tecnologia riohacha, retail call cen...\n",
              "85          71  ...  [impulsadoras bachilleres experiencia, america...\n",
              "86         467  ...  [prinicipales responsabilidades liderar, great...\n",
              "87         418  ...  [puerta puerta armenia, restaurantes gourmet r...\n",
              "\n",
              "[88 rows x 5 columns]"
            ]
          },
          "metadata": {
            "tags": []
          },
          "execution_count": 24
        }
      ]
    },
    {
      "cell_type": "code",
      "metadata": {
        "id": "GkDrwDuRE0PZ"
      },
      "source": [
        "df_category_model.to_excel('df_category_model_diversity1.xlsx',encoding='utf-8-sig',index = True)"
      ],
      "execution_count": 25,
      "outputs": []
    },
    {
      "cell_type": "markdown",
      "metadata": {
        "id": "yQjs11igaXL_"
      },
      "source": [
        "General model"
      ]
    },
    {
      "cell_type": "code",
      "metadata": {
        "colab": {
          "base_uri": "https://localhost:8080/",
          "height": 606
        },
        "id": "BSbztRBCYs9V",
        "outputId": "b5cd8b6f-4af2-4967-c507-572aa64a21c1"
      },
      "source": [
        "df_general_model = general_model.copy()\n",
        "#df_general_model['keywords'] = df_general_model['grouped_doc'].apply(lambda x: keywords(x,(3,3),15))\n",
        "df_general_model"
      ],
      "execution_count": 26,
      "outputs": [
        {
          "output_type": "execute_result",
          "data": {
            "text/html": [
              "<div>\n",
              "<style scoped>\n",
              "    .dataframe tbody tr th:only-of-type {\n",
              "        vertical-align: middle;\n",
              "    }\n",
              "\n",
              "    .dataframe tbody tr th {\n",
              "        vertical-align: top;\n",
              "    }\n",
              "\n",
              "    .dataframe thead th {\n",
              "        text-align: right;\n",
              "    }\n",
              "</style>\n",
              "<table border=\"1\" class=\"dataframe\">\n",
              "  <thead>\n",
              "    <tr style=\"text-align: right;\">\n",
              "      <th></th>\n",
              "      <th>Unnamed: 0</th>\n",
              "      <th>categoria</th>\n",
              "      <th>prediction_with_general_model</th>\n",
              "      <th>grouped_doc</th>\n",
              "    </tr>\n",
              "  </thead>\n",
              "  <tbody>\n",
              "    <tr>\n",
              "      <th>0</th>\n",
              "      <td>16</td>\n",
              "      <td>administracion_oficina</td>\n",
              "      <td>0</td>\n",
              "      <td>analista planeacion organizacional hdi seguros...</td>\n",
              "    </tr>\n",
              "    <tr>\n",
              "      <th>1</th>\n",
              "      <td>13</td>\n",
              "      <td>administracion_oficina</td>\n",
              "      <td>1</td>\n",
              "      <td>analista i estructura contratacion ¡unete tale...</td>\n",
              "    </tr>\n",
              "    <tr>\n",
              "      <th>2</th>\n",
              "      <td>407</td>\n",
              "      <td>administracion_oficina</td>\n",
              "      <td>2</td>\n",
              "      <td>analistas comercial itpc ccv analistas comerci...</td>\n",
              "    </tr>\n",
              "    <tr>\n",
              "      <th>3</th>\n",
              "      <td>406</td>\n",
              "      <td>administracion_oficina</td>\n",
              "      <td>3</td>\n",
              "      <td>prueba nov asdasd gerente regional cav s geren...</td>\n",
              "    </tr>\n",
              "    <tr>\n",
              "      <th>4</th>\n",
              "      <td>750</td>\n",
              "      <td>bodega_logistica_y_transporte</td>\n",
              "      <td>0</td>\n",
              "      <td>domiciliario funza mosquera madrid requiere ho...</td>\n",
              "    </tr>\n",
              "    <tr>\n",
              "      <th>...</th>\n",
              "      <td>...</td>\n",
              "      <td>...</td>\n",
              "      <td>...</td>\n",
              "      <td>...</td>\n",
              "    </tr>\n",
              "    <tr>\n",
              "      <th>83</th>\n",
              "      <td>112</td>\n",
              "      <td>software_informatica_y_telecomunicaciones</td>\n",
              "      <td>3</td>\n",
              "      <td>ingeniero operacion crm ingeniero operacion cr...</td>\n",
              "    </tr>\n",
              "    <tr>\n",
              "      <th>84</th>\n",
              "      <td>71</td>\n",
              "      <td>ventas</td>\n",
              "      <td>0</td>\n",
              "      <td>consultor inversiones barranquilla ¡unete tale...</td>\n",
              "    </tr>\n",
              "    <tr>\n",
              "      <th>85</th>\n",
              "      <td>426</td>\n",
              "      <td>ventas</td>\n",
              "      <td>1</td>\n",
              "      <td>ejecutivo comercial experiencia venta llantas ...</td>\n",
              "    </tr>\n",
              "    <tr>\n",
              "      <th>86</th>\n",
              "      <td>501</td>\n",
              "      <td>ventas</td>\n",
              "      <td>2</td>\n",
              "      <td>agente seguros juchitan integrate equipo traba...</td>\n",
              "    </tr>\n",
              "    <tr>\n",
              "      <th>87</th>\n",
              "      <td>418</td>\n",
              "      <td>ventas</td>\n",
              "      <td>3</td>\n",
              "      <td>vendedor tat importante empresa editorial cons...</td>\n",
              "    </tr>\n",
              "  </tbody>\n",
              "</table>\n",
              "<p>88 rows × 4 columns</p>\n",
              "</div>"
            ],
            "text/plain": [
              "    Unnamed: 0  ...                                        grouped_doc\n",
              "0           16  ...  analista planeacion organizacional hdi seguros...\n",
              "1           13  ...  analista i estructura contratacion ¡unete tale...\n",
              "2          407  ...  analistas comercial itpc ccv analistas comerci...\n",
              "3          406  ...  prueba nov asdasd gerente regional cav s geren...\n",
              "4          750  ...  domiciliario funza mosquera madrid requiere ho...\n",
              "..         ...  ...                                                ...\n",
              "83         112  ...  ingeniero operacion crm ingeniero operacion cr...\n",
              "84          71  ...  consultor inversiones barranquilla ¡unete tale...\n",
              "85         426  ...  ejecutivo comercial experiencia venta llantas ...\n",
              "86         501  ...  agente seguros juchitan integrate equipo traba...\n",
              "87         418  ...  vendedor tat importante empresa editorial cons...\n",
              "\n",
              "[88 rows x 4 columns]"
            ]
          },
          "metadata": {
            "tags": []
          },
          "execution_count": 26
        }
      ]
    },
    {
      "cell_type": "code",
      "metadata": {
        "id": "8Fm2whUqafit"
      },
      "source": [
        "df_general_model['max_sum_sim_iter'] = df_general_model['grouped_doc'].apply(lambda x: max_sum_sim_iter(x,n_gram_range = (3,3),top_n=15,nr_candidates=15))\n",
        "df_general_model"
      ],
      "execution_count": null,
      "outputs": []
    },
    {
      "cell_type": "code",
      "metadata": {
        "colab": {
          "base_uri": "https://localhost:8080/",
          "height": 776
        },
        "id": "8XKhp-0zawai",
        "outputId": "1ddfc2f7-8a39-4901-f195-31070ca72719"
      },
      "source": [
        "df_general_model['mmr_iter'] = df_general_model['grouped_doc'].apply(lambda x: mmr_iter(x,n_gram_range = (3,3),top_n = 15, diversity = 1))\n",
        "df_general_model"
      ],
      "execution_count": 27,
      "outputs": [
        {
          "output_type": "execute_result",
          "data": {
            "text/html": [
              "<div>\n",
              "<style scoped>\n",
              "    .dataframe tbody tr th:only-of-type {\n",
              "        vertical-align: middle;\n",
              "    }\n",
              "\n",
              "    .dataframe tbody tr th {\n",
              "        vertical-align: top;\n",
              "    }\n",
              "\n",
              "    .dataframe thead th {\n",
              "        text-align: right;\n",
              "    }\n",
              "</style>\n",
              "<table border=\"1\" class=\"dataframe\">\n",
              "  <thead>\n",
              "    <tr style=\"text-align: right;\">\n",
              "      <th></th>\n",
              "      <th>Unnamed: 0</th>\n",
              "      <th>categoria</th>\n",
              "      <th>prediction_with_general_model</th>\n",
              "      <th>grouped_doc</th>\n",
              "      <th>mmr_iter</th>\n",
              "    </tr>\n",
              "  </thead>\n",
              "  <tbody>\n",
              "    <tr>\n",
              "      <th>0</th>\n",
              "      <td>16</td>\n",
              "      <td>administracion_oficina</td>\n",
              "      <td>0</td>\n",
              "      <td>analista planeacion organizacional hdi seguros...</td>\n",
              "      <td>[seguros colombia buscando, control gtr fines,...</td>\n",
              "    </tr>\n",
              "    <tr>\n",
              "      <th>1</th>\n",
              "      <td>13</td>\n",
              "      <td>administracion_oficina</td>\n",
              "      <td>1</td>\n",
              "      <td>analista i estructura contratacion ¡unete tale...</td>\n",
              "      <td>[constructoras inmobiliarias cajas, rifle amer...</td>\n",
              "    </tr>\n",
              "    <tr>\n",
              "      <th>2</th>\n",
              "      <td>407</td>\n",
              "      <td>administracion_oficina</td>\n",
              "      <td>2</td>\n",
              "      <td>analistas comercial itpc ccv analistas comerci...</td>\n",
              "      <td>[comercial analistas comercial, bayport busca ...</td>\n",
              "    </tr>\n",
              "    <tr>\n",
              "      <th>3</th>\n",
              "      <td>406</td>\n",
              "      <td>administracion_oficina</td>\n",
              "      <td>3</td>\n",
              "      <td>prueba nov asdasd gerente regional cav s geren...</td>\n",
              "      <td>[induccion gracias daviplata, nov asdasd geren...</td>\n",
              "    </tr>\n",
              "    <tr>\n",
              "      <th>4</th>\n",
              "      <td>750</td>\n",
              "      <td>bodega_logistica_y_transporte</td>\n",
              "      <td>0</td>\n",
              "      <td>domiciliario funza mosquera madrid requiere ho...</td>\n",
              "      <td>[mosquera madrid requiere, vida hojasdevida ma...</td>\n",
              "    </tr>\n",
              "    <tr>\n",
              "      <th>...</th>\n",
              "      <td>...</td>\n",
              "      <td>...</td>\n",
              "      <td>...</td>\n",
              "      <td>...</td>\n",
              "      <td>...</td>\n",
              "    </tr>\n",
              "    <tr>\n",
              "      <th>83</th>\n",
              "      <td>112</td>\n",
              "      <td>software_informatica_y_telecomunicaciones</td>\n",
              "      <td>3</td>\n",
              "      <td>ingeniero operacion crm ingeniero operacion cr...</td>\n",
              "      <td>[google analytics salesforce, afin responsable...</td>\n",
              "    </tr>\n",
              "    <tr>\n",
              "      <th>84</th>\n",
              "      <td>71</td>\n",
              "      <td>ventas</td>\n",
              "      <td>0</td>\n",
              "      <td>consultor inversiones barranquilla ¡unete tale...</td>\n",
              "      <td>[comerciales igual impulsar, google analytics ...</td>\n",
              "    </tr>\n",
              "    <tr>\n",
              "      <th>85</th>\n",
              "      <td>426</td>\n",
              "      <td>ventas</td>\n",
              "      <td>1</td>\n",
              "      <td>ejecutivo comercial experiencia venta llantas ...</td>\n",
              "      <td>[baterias ejecutivo comercial, american eagle ...</td>\n",
              "    </tr>\n",
              "    <tr>\n",
              "      <th>86</th>\n",
              "      <td>501</td>\n",
              "      <td>ventas</td>\n",
              "      <td>2</td>\n",
              "      <td>agente seguros juchitan integrate equipo traba...</td>\n",
              "      <td>[seguros metlife cdmx, full time medio, requie...</td>\n",
              "    </tr>\n",
              "    <tr>\n",
              "      <th>87</th>\n",
              "      <td>418</td>\n",
              "      <td>ventas</td>\n",
              "      <td>3</td>\n",
              "      <td>vendedor tat importante empresa editorial cons...</td>\n",
              "      <td>[tecnologia manejo herramientas, restaurantes ...</td>\n",
              "    </tr>\n",
              "  </tbody>\n",
              "</table>\n",
              "<p>88 rows × 5 columns</p>\n",
              "</div>"
            ],
            "text/plain": [
              "    Unnamed: 0  ...                                           mmr_iter\n",
              "0           16  ...  [seguros colombia buscando, control gtr fines,...\n",
              "1           13  ...  [constructoras inmobiliarias cajas, rifle amer...\n",
              "2          407  ...  [comercial analistas comercial, bayport busca ...\n",
              "3          406  ...  [induccion gracias daviplata, nov asdasd geren...\n",
              "4          750  ...  [mosquera madrid requiere, vida hojasdevida ma...\n",
              "..         ...  ...                                                ...\n",
              "83         112  ...  [google analytics salesforce, afin responsable...\n",
              "84          71  ...  [comerciales igual impulsar, google analytics ...\n",
              "85         426  ...  [baterias ejecutivo comercial, american eagle ...\n",
              "86         501  ...  [seguros metlife cdmx, full time medio, requie...\n",
              "87         418  ...  [tecnologia manejo herramientas, restaurantes ...\n",
              "\n",
              "[88 rows x 5 columns]"
            ]
          },
          "metadata": {
            "tags": []
          },
          "execution_count": 27
        }
      ]
    },
    {
      "cell_type": "code",
      "metadata": {
        "id": "ROPhcEkma50A"
      },
      "source": [
        "df_general_model.to_excel('df_general_model_diversity1.xlsx',encoding='utf-8-sig',index = True)"
      ],
      "execution_count": 29,
      "outputs": []
    }
  ]
}